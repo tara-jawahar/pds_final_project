{
 "cells": [
  {
   "cell_type": "code",
   "execution_count": 1,
   "metadata": {},
   "outputs": [],
   "source": [
    "import xlrd\n",
    "import pandas as pd\n",
    "import csv\n",
    "import sqlite3\n",
    "import matplotlib\n",
    "matplotlib.use(\"svg\")\n",
    "import matplotlib.pyplot as plt\n",
    "import os\n",
    "if not os.environ.get(\"DISABLE_TESTING\", False):\n",
    "    %matplotlib inline\n",
    "plt.style.use('ggplot')\n",
    "import numpy as np"
   ]
  },
  {
   "cell_type": "code",
   "execution_count": 2,
   "metadata": {},
   "outputs": [
    {
     "ename": "FileNotFoundError",
     "evalue": "[Errno 2] File b'grad_rates_pupil_teacher_ratio.csv' does not exist: b'grad_rates_pupil_teacher_ratio.csv'",
     "output_type": "error",
     "traceback": [
      "\u001b[0;31m---------------------------------------------------------------------------\u001b[0m",
      "\u001b[0;31mFileNotFoundError\u001b[0m                         Traceback (most recent call last)",
      "\u001b[0;32m<ipython-input-2-b29d292914d5>\u001b[0m in \u001b[0;36m<module>\u001b[0;34m\u001b[0m\n\u001b[1;32m      1\u001b[0m \u001b[0;31m##Read table using pandas\u001b[0m\u001b[0;34m\u001b[0m\u001b[0;34m\u001b[0m\u001b[0;34m\u001b[0m\u001b[0m\n\u001b[0;32m----> 2\u001b[0;31m \u001b[0mdf1\u001b[0m \u001b[0;34m=\u001b[0m \u001b[0mpd\u001b[0m\u001b[0;34m.\u001b[0m\u001b[0mread_csv\u001b[0m\u001b[0;34m(\u001b[0m\u001b[0;34m\"grad_rates_pupil_teacher_ratio.csv\"\u001b[0m\u001b[0;34m,\u001b[0m\u001b[0mskiprows\u001b[0m\u001b[0;34m=\u001b[0m\u001b[0;36m6\u001b[0m\u001b[0;34m)\u001b[0m\u001b[0;34m\u001b[0m\u001b[0;34m\u001b[0m\u001b[0m\n\u001b[0m",
      "\u001b[0;32m//anaconda3/lib/python3.7/site-packages/pandas/io/parsers.py\u001b[0m in \u001b[0;36mparser_f\u001b[0;34m(filepath_or_buffer, sep, delimiter, header, names, index_col, usecols, squeeze, prefix, mangle_dupe_cols, dtype, engine, converters, true_values, false_values, skipinitialspace, skiprows, skipfooter, nrows, na_values, keep_default_na, na_filter, verbose, skip_blank_lines, parse_dates, infer_datetime_format, keep_date_col, date_parser, dayfirst, iterator, chunksize, compression, thousands, decimal, lineterminator, quotechar, quoting, doublequote, escapechar, comment, encoding, dialect, tupleize_cols, error_bad_lines, warn_bad_lines, delim_whitespace, low_memory, memory_map, float_precision)\u001b[0m\n\u001b[1;32m    700\u001b[0m                     skip_blank_lines=skip_blank_lines)\n\u001b[1;32m    701\u001b[0m \u001b[0;34m\u001b[0m\u001b[0m\n\u001b[0;32m--> 702\u001b[0;31m         \u001b[0;32mreturn\u001b[0m \u001b[0m_read\u001b[0m\u001b[0;34m(\u001b[0m\u001b[0mfilepath_or_buffer\u001b[0m\u001b[0;34m,\u001b[0m \u001b[0mkwds\u001b[0m\u001b[0;34m)\u001b[0m\u001b[0;34m\u001b[0m\u001b[0;34m\u001b[0m\u001b[0m\n\u001b[0m\u001b[1;32m    703\u001b[0m \u001b[0;34m\u001b[0m\u001b[0m\n\u001b[1;32m    704\u001b[0m     \u001b[0mparser_f\u001b[0m\u001b[0;34m.\u001b[0m\u001b[0m__name__\u001b[0m \u001b[0;34m=\u001b[0m \u001b[0mname\u001b[0m\u001b[0;34m\u001b[0m\u001b[0;34m\u001b[0m\u001b[0m\n",
      "\u001b[0;32m//anaconda3/lib/python3.7/site-packages/pandas/io/parsers.py\u001b[0m in \u001b[0;36m_read\u001b[0;34m(filepath_or_buffer, kwds)\u001b[0m\n\u001b[1;32m    427\u001b[0m \u001b[0;34m\u001b[0m\u001b[0m\n\u001b[1;32m    428\u001b[0m     \u001b[0;31m# Create the parser.\u001b[0m\u001b[0;34m\u001b[0m\u001b[0;34m\u001b[0m\u001b[0;34m\u001b[0m\u001b[0m\n\u001b[0;32m--> 429\u001b[0;31m     \u001b[0mparser\u001b[0m \u001b[0;34m=\u001b[0m \u001b[0mTextFileReader\u001b[0m\u001b[0;34m(\u001b[0m\u001b[0mfilepath_or_buffer\u001b[0m\u001b[0;34m,\u001b[0m \u001b[0;34m**\u001b[0m\u001b[0mkwds\u001b[0m\u001b[0;34m)\u001b[0m\u001b[0;34m\u001b[0m\u001b[0;34m\u001b[0m\u001b[0m\n\u001b[0m\u001b[1;32m    430\u001b[0m \u001b[0;34m\u001b[0m\u001b[0m\n\u001b[1;32m    431\u001b[0m     \u001b[0;32mif\u001b[0m \u001b[0mchunksize\u001b[0m \u001b[0;32mor\u001b[0m \u001b[0miterator\u001b[0m\u001b[0;34m:\u001b[0m\u001b[0;34m\u001b[0m\u001b[0;34m\u001b[0m\u001b[0m\n",
      "\u001b[0;32m//anaconda3/lib/python3.7/site-packages/pandas/io/parsers.py\u001b[0m in \u001b[0;36m__init__\u001b[0;34m(self, f, engine, **kwds)\u001b[0m\n\u001b[1;32m    893\u001b[0m             \u001b[0mself\u001b[0m\u001b[0;34m.\u001b[0m\u001b[0moptions\u001b[0m\u001b[0;34m[\u001b[0m\u001b[0;34m'has_index_names'\u001b[0m\u001b[0;34m]\u001b[0m \u001b[0;34m=\u001b[0m \u001b[0mkwds\u001b[0m\u001b[0;34m[\u001b[0m\u001b[0;34m'has_index_names'\u001b[0m\u001b[0;34m]\u001b[0m\u001b[0;34m\u001b[0m\u001b[0;34m\u001b[0m\u001b[0m\n\u001b[1;32m    894\u001b[0m \u001b[0;34m\u001b[0m\u001b[0m\n\u001b[0;32m--> 895\u001b[0;31m         \u001b[0mself\u001b[0m\u001b[0;34m.\u001b[0m\u001b[0m_make_engine\u001b[0m\u001b[0;34m(\u001b[0m\u001b[0mself\u001b[0m\u001b[0;34m.\u001b[0m\u001b[0mengine\u001b[0m\u001b[0;34m)\u001b[0m\u001b[0;34m\u001b[0m\u001b[0;34m\u001b[0m\u001b[0m\n\u001b[0m\u001b[1;32m    896\u001b[0m \u001b[0;34m\u001b[0m\u001b[0m\n\u001b[1;32m    897\u001b[0m     \u001b[0;32mdef\u001b[0m \u001b[0mclose\u001b[0m\u001b[0;34m(\u001b[0m\u001b[0mself\u001b[0m\u001b[0;34m)\u001b[0m\u001b[0;34m:\u001b[0m\u001b[0;34m\u001b[0m\u001b[0;34m\u001b[0m\u001b[0m\n",
      "\u001b[0;32m//anaconda3/lib/python3.7/site-packages/pandas/io/parsers.py\u001b[0m in \u001b[0;36m_make_engine\u001b[0;34m(self, engine)\u001b[0m\n\u001b[1;32m   1120\u001b[0m     \u001b[0;32mdef\u001b[0m \u001b[0m_make_engine\u001b[0m\u001b[0;34m(\u001b[0m\u001b[0mself\u001b[0m\u001b[0;34m,\u001b[0m \u001b[0mengine\u001b[0m\u001b[0;34m=\u001b[0m\u001b[0;34m'c'\u001b[0m\u001b[0;34m)\u001b[0m\u001b[0;34m:\u001b[0m\u001b[0;34m\u001b[0m\u001b[0;34m\u001b[0m\u001b[0m\n\u001b[1;32m   1121\u001b[0m         \u001b[0;32mif\u001b[0m \u001b[0mengine\u001b[0m \u001b[0;34m==\u001b[0m \u001b[0;34m'c'\u001b[0m\u001b[0;34m:\u001b[0m\u001b[0;34m\u001b[0m\u001b[0;34m\u001b[0m\u001b[0m\n\u001b[0;32m-> 1122\u001b[0;31m             \u001b[0mself\u001b[0m\u001b[0;34m.\u001b[0m\u001b[0m_engine\u001b[0m \u001b[0;34m=\u001b[0m \u001b[0mCParserWrapper\u001b[0m\u001b[0;34m(\u001b[0m\u001b[0mself\u001b[0m\u001b[0;34m.\u001b[0m\u001b[0mf\u001b[0m\u001b[0;34m,\u001b[0m \u001b[0;34m**\u001b[0m\u001b[0mself\u001b[0m\u001b[0;34m.\u001b[0m\u001b[0moptions\u001b[0m\u001b[0;34m)\u001b[0m\u001b[0;34m\u001b[0m\u001b[0;34m\u001b[0m\u001b[0m\n\u001b[0m\u001b[1;32m   1123\u001b[0m         \u001b[0;32melse\u001b[0m\u001b[0;34m:\u001b[0m\u001b[0;34m\u001b[0m\u001b[0;34m\u001b[0m\u001b[0m\n\u001b[1;32m   1124\u001b[0m             \u001b[0;32mif\u001b[0m \u001b[0mengine\u001b[0m \u001b[0;34m==\u001b[0m \u001b[0;34m'python'\u001b[0m\u001b[0;34m:\u001b[0m\u001b[0;34m\u001b[0m\u001b[0;34m\u001b[0m\u001b[0m\n",
      "\u001b[0;32m//anaconda3/lib/python3.7/site-packages/pandas/io/parsers.py\u001b[0m in \u001b[0;36m__init__\u001b[0;34m(self, src, **kwds)\u001b[0m\n\u001b[1;32m   1851\u001b[0m         \u001b[0mkwds\u001b[0m\u001b[0;34m[\u001b[0m\u001b[0;34m'usecols'\u001b[0m\u001b[0;34m]\u001b[0m \u001b[0;34m=\u001b[0m \u001b[0mself\u001b[0m\u001b[0;34m.\u001b[0m\u001b[0musecols\u001b[0m\u001b[0;34m\u001b[0m\u001b[0;34m\u001b[0m\u001b[0m\n\u001b[1;32m   1852\u001b[0m \u001b[0;34m\u001b[0m\u001b[0m\n\u001b[0;32m-> 1853\u001b[0;31m         \u001b[0mself\u001b[0m\u001b[0;34m.\u001b[0m\u001b[0m_reader\u001b[0m \u001b[0;34m=\u001b[0m \u001b[0mparsers\u001b[0m\u001b[0;34m.\u001b[0m\u001b[0mTextReader\u001b[0m\u001b[0;34m(\u001b[0m\u001b[0msrc\u001b[0m\u001b[0;34m,\u001b[0m \u001b[0;34m**\u001b[0m\u001b[0mkwds\u001b[0m\u001b[0;34m)\u001b[0m\u001b[0;34m\u001b[0m\u001b[0;34m\u001b[0m\u001b[0m\n\u001b[0m\u001b[1;32m   1854\u001b[0m         \u001b[0mself\u001b[0m\u001b[0;34m.\u001b[0m\u001b[0munnamed_cols\u001b[0m \u001b[0;34m=\u001b[0m \u001b[0mself\u001b[0m\u001b[0;34m.\u001b[0m\u001b[0m_reader\u001b[0m\u001b[0;34m.\u001b[0m\u001b[0munnamed_cols\u001b[0m\u001b[0;34m\u001b[0m\u001b[0;34m\u001b[0m\u001b[0m\n\u001b[1;32m   1855\u001b[0m \u001b[0;34m\u001b[0m\u001b[0m\n",
      "\u001b[0;32mpandas/_libs/parsers.pyx\u001b[0m in \u001b[0;36mpandas._libs.parsers.TextReader.__cinit__\u001b[0;34m()\u001b[0m\n",
      "\u001b[0;32mpandas/_libs/parsers.pyx\u001b[0m in \u001b[0;36mpandas._libs.parsers.TextReader._setup_parser_source\u001b[0;34m()\u001b[0m\n",
      "\u001b[0;31mFileNotFoundError\u001b[0m: [Errno 2] File b'grad_rates_pupil_teacher_ratio.csv' does not exist: b'grad_rates_pupil_teacher_ratio.csv'"
     ]
    }
   ],
   "source": [
    "##Read table using pandas \n",
    "df1 = pd.read_csv(\"grad_rates_pupil_teacher_ratio.csv\",skiprows=6)"
   ]
  },
  {
   "cell_type": "code",
   "execution_count": null,
   "metadata": {},
   "outputs": [],
   "source": [
    "df1"
   ]
  },
  {
   "cell_type": "code",
   "execution_count": null,
   "metadata": {},
   "outputs": [],
   "source": [
    "#create and read table using sqlite\n",
    "conn = sqlite3.connect(\":memory:\")\n",
    "cursor = conn.cursor()\n",
    "\n",
    "#Column names end with 16 indicate school year 16-17\n",
    "#Column names end with 17 indicate school year 17-18\n",
    "cursor.execute(\"\"\"\n",
    "CREATE TABLE GRAD_RATIO(\n",
    "    county_name TEXT,\n",
    "    county_name_17 TEXT,\n",
    "    county_name_16 TEXT,\n",
    "    total_num_schools_17 INTEGER,\n",
    "    total_num_schools_16 INTEGER,\n",
    "    american_indian_male_17 INTEGER,\n",
    "    american_indian_male_16 INTEGER,\n",
    "    american_indian_female_17 INTEGER,\n",
    "    american_indian_female_16 INTEGER,\n",
    "    asian_male_17 INTEGER,\n",
    "    asian_male_16 INTEGER,\n",
    "    asian_female_17 INTEGER,\n",
    "    asian_female_16 INTEGER,\n",
    "    hispanic_male_17 INTEGER,\n",
    "    hispanic_male_16 INTEGER,\n",
    "    hispanic_female_17 INTEGER,\n",
    "    hispanic_female_16 INTEGER,\n",
    "    black_male_17 INTEGER,\n",
    "    black_male_16 INTEGER,\n",
    "    black_female_17 INTEGER,\n",
    "    black_female_16 INTEGER,\n",
    "    white_male_17 INTEGER,\n",
    "    white_male_16 INTEGER,\n",
    "    white_female_17 INTEGER,\n",
    "    white_female_16 INTEGER,\n",
    "    hawaiian_male_17 INTEGER,\n",
    "    hawaiian_male_16 INTEGER,\n",
    "    hawaiian_female_17 INTEGER,\n",
    "    hawaiian_female_16 INTEGER,\n",
    "    mixed_male_17 INTEGER,\n",
    "    mixed_male_16 INTEGER,\n",
    "    mixed_female_17 INTEGER,\n",
    "    mixed_female_16 INTEGER,\n",
    "    student_teacher_ratio_17 INTEGER,\n",
    "    student_teacher_ratio_16 INTEGER\n",
    ");\"\"\")\n",
    "\n",
    "conn.commit()\n",
    "\n",
    "with open (\"grad_rates_pupil_teacher_ratio.csv\") as grad_ratio:\n",
    "    data = csv.reader(grad_ratio)\n",
    "    counter = 0\n",
    "    for row in data:\n",
    "        if counter >= 7 and len(row)>=35:\n",
    "            #print(counter)\n",
    "            cursor.execute(\"\"\"INSERT INTO GRAD_RATIO VALUES (?,?,?,?,?,?,?,?,?,?,\n",
    "                                                             ?,?,?,?,?,?,?,?,?,?,\n",
    "                                                             ?,?,?,?,?,?,?,?,?,?,\n",
    "                                                             ?,?,?,?,?)\"\"\", tuple(row))\n",
    "        counter += 1\n",
    "\n",
    "        conn.commit()\n",
    "            \n",
    "\n",
    "pd.read_sql_query(\"SELECT * from GRAD_RATIO;\", conn)"
   ]
  },
  {
   "cell_type": "code",
   "execution_count": null,
   "metadata": {},
   "outputs": [],
   "source": [
    "#Load graduation_rate_total \n",
    "conn = sqlite3.connect(\":memory:\")\n",
    "cursor = conn.cursor()\n",
    "\n",
    "cursor.execute(\"\"\"\n",
    "CREATE TABLE GRAD_RATE_TOTAL(\n",
    "    region_id INTEGER,\n",
    "    region_name TEXT,\n",
    "    region_type TEXT,\n",
    "    year INTEGER,\n",
    "    variable TEXT,\n",
    "    percentage REAL  \n",
    ");\"\"\")\n",
    "\n",
    "conn.commit()\n",
    "\n",
    "\n",
    "with open (\"graduation_rates_total.csv\",encoding='latin-1') as grad_rate:\n",
    "    data = csv.reader(grad_rate)\n",
    "    counter = 0\n",
    "    for row in data:\n",
    "        if counter >= 1:\n",
    "            cursor.execute(\"INSERT INTO GRAD_RATE_TOTAL VALUES (?,?,?,?,?,?)\",tuple(row))\n",
    "        counter += 1\n",
    "        \n",
    "conn.commit()\n",
    "\n",
    "\n",
    "\n",
    "pd.read_sql_query(\"SELECT * from GRAD_RATE_TOTAL;\", conn)"
   ]
  },
  {
   "cell_type": "code",
   "execution_count": null,
   "metadata": {},
   "outputs": [],
   "source": [
    "fin_df = pd.read_excel(\"financial_data.xls\", sheet_name=[\"14\",\"15\",\"16\",\"17\",\"18\"], skiprow=5)\n",
    "fin_df_pps = fin_df[\"18\"].fillna(-1)\n",
    "fin_df_pps"
   ]
  },
  {
   "cell_type": "code",
   "execution_count": null,
   "metadata": {},
   "outputs": [],
   "source": [
    "# print(fin_df[\"18\"].columns)\n",
    "per_pupil_spending = pd.DataFrame([], columns=[\"Rank\", \"School System\", \"State\", \"Enrollment\", \"Instruction_Total\", \n",
    "                              \"Instruction_Salaries\", \"Instruction_EmployeeBenefits\", \"Support_Total\", \n",
    "                              \"Support_Pupil\", \"Support_Staff\",\"Support_GeneralAdmin\", \"Support_SchoolAdmin\"])\n",
    "per_pupil_spending[\"Rank\"] = [i for i in range(100)]\n",
    "per_pupil_spending[\"School System\"] = [i for i in fin_df_pps[\"Unnamed: 2\"][4:] if i !=\"School System\" and i != -1]\n",
    "per_pupil_spending[\"State\"] = [i for i in fin_df_pps[\"Unnamed: 3\"][4:] if i !=\"State\" and i != -1]\n",
    "per_pupil_spending[\"Enrollment\"] = [int(i) for i in fin_df_pps[\"Unnamed: 4\"] if i != -1 and type(i) != str]\n",
    "per_pupil_spending[\"Instruction_Total\"] = [int(i) for i in fin_df_pps[\"Unnamed: 8\"] if i != -1 and type(i) != str]\n",
    "per_pupil_spending[\"Instruction_Salaries\"] = [int(i) for i in fin_df_pps[\"Unnamed: 9\"] if i != -1 and type(i) != str]\n",
    "per_pupil_spending[\"Instruction_EmployeeBenefits\"] = [int(i) for i in fin_df_pps[\"Unnamed: 10\"] if i != -1 and type(i) != str]\n",
    "per_pupil_spending[\"Support_Total\"] = [int(i) for i in fin_df_pps[\"Unnamed: 11\"] if i != -1 and type(i) != str]\n",
    "per_pupil_spending[\"Support_Pupil\"] = [int(i) for i in fin_df_pps[\"Unnamed: 12\"] if i != -1 and type(i) != str]\n",
    "per_pupil_spending[\"Support_Staff\"] = [int(i) for i in fin_df_pps[\"Unnamed: 13\"] if i != -1 and type(i) != str]\n",
    "per_pupil_spending[\"Support_GeneralAdmin\"] = [int(i) for i in fin_df_pps[\"Unnamed: 14\"] if i != -1 and type(i) != str]\n",
    "per_pupil_spending[\"Support_SchoolAdmin\"] = [int(i) for i in fin_df_pps[\"Unnamed: 15\"] if i != -1 and type(i) != str]\n",
    "\n",
    "per_pupil_spending.to_csv(index=False)"
   ]
  }
 ],
 "metadata": {
  "kernelspec": {
   "display_name": "Python 3",
   "language": "python",
   "name": "python3"
  },
  "language_info": {
   "codemirror_mode": {
    "name": "ipython",
    "version": 3
   },
   "file_extension": ".py",
   "mimetype": "text/x-python",
   "name": "python",
   "nbconvert_exporter": "python",
   "pygments_lexer": "ipython3",
   "version": "3.7.3"
  }
 },
 "nbformat": 4,
 "nbformat_minor": 2
}
